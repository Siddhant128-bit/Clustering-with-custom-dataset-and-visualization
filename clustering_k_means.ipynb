{
 "cells": [
  {
   "attachments": {},
   "cell_type": "markdown",
   "metadata": {},
   "source": [
    "<h2> K.Means Algorithm </h2>\n",
    "\n",
    "Clustering is a different branch of Machine Learning in general that falls under unsupervised learning where labels are not present in the dataset and a pattern of similarly identifiable datapoints are considered as new clusters/classes purely on the basis of datapoints similarity with each other\n",
    "\n"
   ]
  },
  {
   "attachments": {},
   "cell_type": "markdown",
   "metadata": {},
   "source": [
    "<h3> 0. Inslalling Dependencies </h3>"
   ]
  },
  {
   "cell_type": "code",
   "execution_count": null,
   "metadata": {},
   "outputs": [],
   "source": [
    "!pip install pandas \n",
    "!pip install numpy \n",
    "!pip install matplotlib\n",
    "!pip install -U scikit-learn"
   ]
  },
  {
   "attachments": {},
   "cell_type": "markdown",
   "metadata": {},
   "source": [
    "<h3>1. Importing Dependencies </h3>"
   ]
  },
  {
   "cell_type": "code",
   "execution_count": null,
   "metadata": {},
   "outputs": [],
   "source": [
    "import pandas as pd \n",
    "from sklearn.cluster import KMeans\n",
    "import numpy as np \n",
    "import os\n",
    "import random"
   ]
  },
  {
   "attachments": {},
   "cell_type": "markdown",
   "metadata": {},
   "source": [
    "<h3>2. Creating Dataset </h3>\n",
    "\n",
    "Today lets work on an exercise to have N number of students whose name will be provided by user and we will create numpy array  and dataframe over it(DataFrame for better visualization and Numpy for clustering purpose) with random marks assigned for 2 subjects (for 2D clustering visualization ) and 3 subjects (for 3D clustering and visualizations)"
   ]
  },
  {
   "cell_type": "code",
   "execution_count": null,
   "metadata": {},
   "outputs": [],
   "source": [
    "def get_dimension():\n",
    "    while True:\n",
    "        dimension=int(input('Enter 2 for 2 Dimension and 3 for 3 Dimensions: '))\n",
    "        if dimension==2 or dimension==3: \n",
    "            break \n",
    "        else: \n",
    "            print('Creator\\'s note Please give 2 or 3 as input as it works on these 2 only (for now) \\n')\n",
    "\n",
    "    return dimension\n",
    "\n",
    "def get_topics(dimension):\n",
    "    topics=[]\n",
    "    if dimension==2:\n",
    "        topics=['Math','Science']\n",
    "    else: \n",
    "        topics=['Math','Science','Literature']\n",
    "    \n",
    "    return topics\n",
    "\n",
    "def get_students(number_of_students):\n",
    "    students=[]\n",
    "    for i in range(0,number_of_students):\n",
    "        students.append(input(f'Enter name of the {i+1} student:  '))\n",
    "    return students\n",
    "\n",
    "def get_column_names(topics):\n",
    "    columns=['Student']\n",
    "    for i in topics: \n",
    "        columns.append(i)\n",
    "    return columns\n",
    "\n",
    "def get_initial_data_frame(students,columns):\n",
    "    df=pd.DataFrame(columns=columns)\n",
    "    df['Student']=students\n",
    "    for i in columns[1:]: \n",
    "        df[i]=[random.randrange(30,100) for number in range(len(students))]\n",
    "    return df\n",
    "\n",
    "\n",
    "def get_data_frame(number_of_students,dimension):\n",
    "    topics=get_topics(dimension)\n",
    "    students=get_students(number_of_students)\n",
    "    columns=get_column_names(topics)\n",
    "    data_df=get_initial_data_frame(students,columns)\n",
    "    return data_df\n",
    "    \n",
    "\n",
    "def saving_dataframe_and_loading_latest_dataframe(data_df):\n",
    "        \n",
    "    if len(data_df.columns)==3:\n",
    "        print('Saving to \\'Dataset 2D\\'')\n",
    "        if 'Dataset_2D.csv' in os.listdir(os.getcwd()):\n",
    "            data_df.to_csv('Dataset_2D.csv',mode='a',index=False,header=False)\n",
    "        else: \n",
    "            data_df.to_csv('Dataset_2D.csv',mode='a',index=False,header=True)\n",
    "\n",
    "        data_df=pd.read_csv('Dataset_2D.csv')\n",
    "\n",
    "    else: \n",
    "        print('Saving to \\'Dataset 2D\\'')\n",
    "        if \"Dataset_3D.csv\" in os.listdir(os.getcwd()):\n",
    "            data_df.to_csv('Dataset_3D.csv',mode='a',index=False,header=False)\n",
    "        else:\n",
    "            data_df.to_csv('Dataset_3D.csv',mode='a',index=False,header=True)\n",
    "\n",
    "        data_df=pd.read_csv('Dataset_3D.csv')\n",
    "    \n",
    "    return data_df\n",
    "    \n",
    "    "
   ]
  },
  {
   "attachments": {},
   "cell_type": "markdown",
   "metadata": {},
   "source": [
    "<h4> Calling all functions </h4>\n",
    "<ol>\n",
    "    <li> We input the dimensions of the data (2D or 3D) </li>\n",
    "    <li> We get number of students </li>\n",
    "    <li> We get dataframes </li>\n",
    "    <li> We dump dataframe and load the entire data frame </li>\n",
    "    <li> We get numpy array </li>\n",
    "</ol>"
   ]
  },
  {
   "cell_type": "code",
   "execution_count": null,
   "metadata": {},
   "outputs": [],
   "source": [
    "dimension=get_dimension()\n",
    "number_of_students=int(input('Enter number of students to work with: '))\n",
    "\n",
    "data_df=get_data_frame(number_of_students,dimension)\n",
    "data_df=saving_dataframe_and_loading_latest_dataframe(data_df)\n",
    "\n",
    "print('Numpy array: ')\n",
    "data_np=(data_df.drop(columns=['Student'])).to_numpy()\n",
    "print(data_np)\n",
    "print('Data Frame: ')\n",
    "data_df\n",
    "\n"
   ]
  }
 ],
 "metadata": {
  "kernelspec": {
   "display_name": "training_",
   "language": "python",
   "name": "python3"
  },
  "language_info": {
   "codemirror_mode": {
    "name": "ipython",
    "version": 3
   },
   "file_extension": ".py",
   "mimetype": "text/x-python",
   "name": "python",
   "nbconvert_exporter": "python",
   "pygments_lexer": "ipython3",
   "version": "3.10.8"
  },
  "orig_nbformat": 4,
  "vscode": {
   "interpreter": {
    "hash": "d3d2f78e555183a881cae8393ce673a4ac506717ad392b2f660077200b1aa750"
   }
  }
 },
 "nbformat": 4,
 "nbformat_minor": 2
}
