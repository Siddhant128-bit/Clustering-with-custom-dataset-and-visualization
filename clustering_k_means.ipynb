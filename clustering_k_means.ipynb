{
 "cells": [
  {
   "cell_type": "markdown",
   "metadata": {},
   "source": [
    "<h2> K.Means Algorithm </h2>\n",
    "\n",
    "Clustering is a different branch of Machine Learning in general that falls under unsupervised learning where labels are not present in the dataset and a pattern of similarly identifiable datapoints are considered as new clusters/classes purely on the basis of datapoints similarity with each other\n",
    "\n"
   ]
  },
  {
   "cell_type": "markdown",
   "metadata": {},
   "source": [
    "<h3> 0. Inslalling Dependencies </h3>"
   ]
  },
  {
   "cell_type": "code",
   "execution_count": 1,
   "metadata": {},
   "outputs": [
    {
     "name": "stdout",
     "output_type": "stream",
     "text": [
      "Requirement already satisfied: pandas in c:\\users\\fm-pc-lt-233\\anaconda3\\envs\\training_\\lib\\site-packages (1.5.2)\n",
      "Requirement already satisfied: python-dateutil>=2.8.1 in c:\\users\\fm-pc-lt-233\\anaconda3\\envs\\training_\\lib\\site-packages (from pandas) (2.8.2)\n",
      "Requirement already satisfied: numpy>=1.21.0 in c:\\users\\fm-pc-lt-233\\anaconda3\\envs\\training_\\lib\\site-packages (from pandas) (1.23.5)\n",
      "Requirement already satisfied: pytz>=2020.1 in c:\\users\\fm-pc-lt-233\\anaconda3\\envs\\training_\\lib\\site-packages (from pandas) (2022.6)\n",
      "Requirement already satisfied: six>=1.5 in c:\\users\\fm-pc-lt-233\\anaconda3\\envs\\training_\\lib\\site-packages (from python-dateutil>=2.8.1->pandas) (1.16.0)\n",
      "Requirement already satisfied: numpy in c:\\users\\fm-pc-lt-233\\anaconda3\\envs\\training_\\lib\\site-packages (1.23.5)\n",
      "Requirement already satisfied: matplotlib in c:\\users\\fm-pc-lt-233\\anaconda3\\envs\\training_\\lib\\site-packages (3.6.2)\n",
      "Requirement already satisfied: packaging>=20.0 in c:\\users\\fm-pc-lt-233\\anaconda3\\envs\\training_\\lib\\site-packages (from matplotlib) (22.0)\n",
      "Requirement already satisfied: contourpy>=1.0.1 in c:\\users\\fm-pc-lt-233\\anaconda3\\envs\\training_\\lib\\site-packages (from matplotlib) (1.0.6)\n",
      "Requirement already satisfied: pillow>=6.2.0 in c:\\users\\fm-pc-lt-233\\anaconda3\\envs\\training_\\lib\\site-packages (from matplotlib) (9.3.0)\n",
      "Requirement already satisfied: numpy>=1.19 in c:\\users\\fm-pc-lt-233\\anaconda3\\envs\\training_\\lib\\site-packages (from matplotlib) (1.23.5)\n",
      "Requirement already satisfied: fonttools>=4.22.0 in c:\\users\\fm-pc-lt-233\\anaconda3\\envs\\training_\\lib\\site-packages (from matplotlib) (4.38.0)\n",
      "Requirement already satisfied: cycler>=0.10 in c:\\users\\fm-pc-lt-233\\anaconda3\\envs\\training_\\lib\\site-packages (from matplotlib) (0.11.0)\n",
      "Requirement already satisfied: python-dateutil>=2.7 in c:\\users\\fm-pc-lt-233\\anaconda3\\envs\\training_\\lib\\site-packages (from matplotlib) (2.8.2)\n",
      "Requirement already satisfied: kiwisolver>=1.0.1 in c:\\users\\fm-pc-lt-233\\anaconda3\\envs\\training_\\lib\\site-packages (from matplotlib) (1.4.4)\n",
      "Requirement already satisfied: pyparsing>=2.2.1 in c:\\users\\fm-pc-lt-233\\anaconda3\\envs\\training_\\lib\\site-packages (from matplotlib) (3.0.9)\n",
      "Requirement already satisfied: six>=1.5 in c:\\users\\fm-pc-lt-233\\anaconda3\\envs\\training_\\lib\\site-packages (from python-dateutil>=2.7->matplotlib) (1.16.0)\n",
      "Requirement already satisfied: scikit-learn in c:\\users\\fm-pc-lt-233\\anaconda3\\envs\\training_\\lib\\site-packages (1.2.0)\n",
      "Requirement already satisfied: joblib>=1.1.1 in c:\\users\\fm-pc-lt-233\\anaconda3\\envs\\training_\\lib\\site-packages (from scikit-learn) (1.2.0)\n",
      "Requirement already satisfied: scipy>=1.3.2 in c:\\users\\fm-pc-lt-233\\anaconda3\\envs\\training_\\lib\\site-packages (from scikit-learn) (1.9.3)\n",
      "Requirement already satisfied: numpy>=1.17.3 in c:\\users\\fm-pc-lt-233\\anaconda3\\envs\\training_\\lib\\site-packages (from scikit-learn) (1.23.5)\n",
      "Requirement already satisfied: threadpoolctl>=2.0.0 in c:\\users\\fm-pc-lt-233\\anaconda3\\envs\\training_\\lib\\site-packages (from scikit-learn) (3.1.0)\n"
     ]
    }
   ],
   "source": [
    "!pip install pandas \n",
    "!pip install numpy \n",
    "!pip install matplotlib\n",
    "!pip install -U scikit-learn"
   ]
  },
  {
   "cell_type": "markdown",
   "metadata": {},
   "source": [
    "<h3>1. Importing Dependencies </h3>"
   ]
  },
  {
   "cell_type": "code",
   "execution_count": 2,
   "metadata": {},
   "outputs": [],
   "source": [
    "import pandas as pd \n",
    "from sklearn.cluster import KMeans\n",
    "import numpy as np \n",
    "import os\n",
    "import matplotlib.colors as mcl\n",
    "import random\n",
    "import matplotlib.pyplot as plt"
   ]
  },
  {
   "cell_type": "markdown",
   "metadata": {},
   "source": [
    "<h3>2. Creating Dataset </h3>\n",
    "\n",
    "Today lets work on an exercise to have N number of students whose name will be provided by user and we will create numpy array  and dataframe over it(DataFrame for better visualization and Numpy for clustering purpose) with random marks assigned for 2 subjects (for 2D clustering visualization ) and 3 subjects (for 3D clustering and visualizations)"
   ]
  },
  {
   "cell_type": "code",
   "execution_count": 46,
   "metadata": {},
   "outputs": [],
   "source": [
    "def get_dimension():\n",
    "    while True:\n",
    "        dimension=int(input('Enter 2 for 2 Dimension and 3 for 3 Dimensions: '))\n",
    "        if dimension==2 or dimension==3: \n",
    "            break \n",
    "        else: \n",
    "            print('Creator\\'s note Please give 2 or 3 as input as it works on these 2 only (for now) \\n')\n",
    "\n",
    "    return dimension\n",
    "\n",
    "def get_topics(dimension):\n",
    "    topics=[]\n",
    "    if dimension==2:\n",
    "        topics=['Math','Science']\n",
    "    else: \n",
    "        topics=['Math','Science','Literature']\n",
    "    \n",
    "    return topics\n",
    "\n",
    "def get_students(number_of_students):\n",
    "    students=[]\n",
    "    for i in range(0,number_of_students):\n",
    "        students.append(input(f'Enter name of the {i+1} student:  '))\n",
    "    return students\n",
    "\n",
    "def get_column_names(topics):\n",
    "    columns=['Student']\n",
    "    for i in topics: \n",
    "        columns.append(i)\n",
    "    return columns\n",
    "\n",
    "def get_initial_data_frame(students,columns):\n",
    "    df=pd.DataFrame(columns=columns)\n",
    "    df['Student']=students\n",
    "    for i in columns[1:]: \n",
    "        df[i]=[random.randrange(30,100) for number in range(len(students))]\n",
    "    return df\n",
    "\n",
    "\n",
    "def get_data_frame(number_of_students,dimension):\n",
    "    topics=get_topics(dimension)\n",
    "    students=get_students(number_of_students)\n",
    "    columns=get_column_names(topics)\n",
    "    data_df=get_initial_data_frame(students,columns)\n",
    "    return data_df\n",
    "    \n",
    "\n",
    "def saving_dataframe_and_loading_latest_dataframe(data_df):\n",
    "        \n",
    "    if len(data_df.columns)==3:\n",
    "        print('Saving to \\'Dataset 2D\\'')\n",
    "        if 'Dataset_2D.csv' in os.listdir(os.getcwd()):\n",
    "            data_df.to_csv('Dataset_2D.csv',mode='a',index=False,header=False)\n",
    "        else: \n",
    "            data_df.to_csv('Dataset_2D.csv',mode='a',index=False,header=True)\n",
    "\n",
    "        data_df=pd.read_csv('Dataset_2D.csv')\n",
    "\n",
    "    else: \n",
    "        print('Saving to \\'Dataset 2D\\'')\n",
    "        if \"Dataset_3D.csv\" in os.listdir(os.getcwd()):\n",
    "            data_df.to_csv('Dataset_3D.csv',mode='a',index=False,header=False)\n",
    "        else:\n",
    "            data_df.to_csv('Dataset_3D.csv',mode='a',index=False,header=True)\n",
    "\n",
    "        data_df=pd.read_csv('Dataset_3D.csv')\n",
    "    \n",
    "    return data_df\n",
    "    \n",
    "    "
   ]
  },
  {
   "cell_type": "markdown",
   "metadata": {},
   "source": [
    "<h4> Calling all functions </h4>\n",
    "<ol>\n",
    "    <li> We input the dimensions of the data (2D or 3D) </li>\n",
    "    <li> We get number of students </li>\n",
    "    <li> We get dataframes </li>\n",
    "    <li> We dump dataframe and load the entire data frame </li>\n",
    "    <li> We get numpy array </li>\n",
    "</ol>"
   ]
  },
  {
   "cell_type": "code",
   "execution_count": 47,
   "metadata": {},
   "outputs": [
    {
     "name": "stdout",
     "output_type": "stream",
     "text": [
      "Enter 2 for 2 Dimension and 3 for 3 Dimensions: 3\n",
      "Enter number of students to work with: 5\n",
      "Enter name of the 1 student:  Aakansha \n",
      "Enter name of the 2 student:  Aaastha\n",
      "Enter name of the 3 student:  Praishta\n",
      "Enter name of the 4 student:  Praiska\n",
      "Enter name of the 5 student:  Jenisha\n",
      "Saving to 'Dataset 2D'\n",
      "Numpy array: \n",
      "[[56 79 48]\n",
      " [74 35 44]\n",
      " [75 83 78]\n",
      " [78 74 31]\n",
      " [73 73 62]\n",
      " [83 83 30]\n",
      " [95 30 54]\n",
      " [63 78 72]\n",
      " [85 59 40]\n",
      " [57 44 47]\n",
      " [78 44 47]\n",
      " [52 77 81]\n",
      " [97 97 69]\n",
      " [86 60 88]\n",
      " [75 53 34]\n",
      " [56 62 57]]\n",
      "Data Frame: \n"
     ]
    },
    {
     "data": {
      "text/html": [
       "<div>\n",
       "<style scoped>\n",
       "    .dataframe tbody tr th:only-of-type {\n",
       "        vertical-align: middle;\n",
       "    }\n",
       "\n",
       "    .dataframe tbody tr th {\n",
       "        vertical-align: top;\n",
       "    }\n",
       "\n",
       "    .dataframe thead th {\n",
       "        text-align: right;\n",
       "    }\n",
       "</style>\n",
       "<table border=\"1\" class=\"dataframe\">\n",
       "  <thead>\n",
       "    <tr style=\"text-align: right;\">\n",
       "      <th></th>\n",
       "      <th>Student</th>\n",
       "      <th>Math</th>\n",
       "      <th>Science</th>\n",
       "      <th>Literature</th>\n",
       "    </tr>\n",
       "  </thead>\n",
       "  <tbody>\n",
       "    <tr>\n",
       "      <th>0</th>\n",
       "      <td>Siddhant</td>\n",
       "      <td>56</td>\n",
       "      <td>79</td>\n",
       "      <td>48</td>\n",
       "    </tr>\n",
       "    <tr>\n",
       "      <th>1</th>\n",
       "      <td>Pradeep</td>\n",
       "      <td>74</td>\n",
       "      <td>35</td>\n",
       "      <td>44</td>\n",
       "    </tr>\n",
       "    <tr>\n",
       "      <th>2</th>\n",
       "      <td>Samrat</td>\n",
       "      <td>75</td>\n",
       "      <td>83</td>\n",
       "      <td>78</td>\n",
       "    </tr>\n",
       "    <tr>\n",
       "      <th>3</th>\n",
       "      <td>Prakash</td>\n",
       "      <td>78</td>\n",
       "      <td>74</td>\n",
       "      <td>31</td>\n",
       "    </tr>\n",
       "    <tr>\n",
       "      <th>4</th>\n",
       "      <td>Aakash</td>\n",
       "      <td>73</td>\n",
       "      <td>73</td>\n",
       "      <td>62</td>\n",
       "    </tr>\n",
       "    <tr>\n",
       "      <th>5</th>\n",
       "      <td>Anushka</td>\n",
       "      <td>83</td>\n",
       "      <td>83</td>\n",
       "      <td>30</td>\n",
       "    </tr>\n",
       "    <tr>\n",
       "      <th>6</th>\n",
       "      <td>Prasant</td>\n",
       "      <td>95</td>\n",
       "      <td>30</td>\n",
       "      <td>54</td>\n",
       "    </tr>\n",
       "    <tr>\n",
       "      <th>7</th>\n",
       "      <td>Yash</td>\n",
       "      <td>63</td>\n",
       "      <td>78</td>\n",
       "      <td>72</td>\n",
       "    </tr>\n",
       "    <tr>\n",
       "      <th>8</th>\n",
       "      <td>Purushuttam</td>\n",
       "      <td>85</td>\n",
       "      <td>59</td>\n",
       "      <td>40</td>\n",
       "    </tr>\n",
       "    <tr>\n",
       "      <th>9</th>\n",
       "      <td>Bigyan</td>\n",
       "      <td>57</td>\n",
       "      <td>44</td>\n",
       "      <td>47</td>\n",
       "    </tr>\n",
       "    <tr>\n",
       "      <th>10</th>\n",
       "      <td>Suraj</td>\n",
       "      <td>78</td>\n",
       "      <td>44</td>\n",
       "      <td>47</td>\n",
       "    </tr>\n",
       "    <tr>\n",
       "      <th>11</th>\n",
       "      <td>Aakansha</td>\n",
       "      <td>52</td>\n",
       "      <td>77</td>\n",
       "      <td>81</td>\n",
       "    </tr>\n",
       "    <tr>\n",
       "      <th>12</th>\n",
       "      <td>Aaastha</td>\n",
       "      <td>97</td>\n",
       "      <td>97</td>\n",
       "      <td>69</td>\n",
       "    </tr>\n",
       "    <tr>\n",
       "      <th>13</th>\n",
       "      <td>Praishta</td>\n",
       "      <td>86</td>\n",
       "      <td>60</td>\n",
       "      <td>88</td>\n",
       "    </tr>\n",
       "    <tr>\n",
       "      <th>14</th>\n",
       "      <td>Praiska</td>\n",
       "      <td>75</td>\n",
       "      <td>53</td>\n",
       "      <td>34</td>\n",
       "    </tr>\n",
       "    <tr>\n",
       "      <th>15</th>\n",
       "      <td>Jenisha</td>\n",
       "      <td>56</td>\n",
       "      <td>62</td>\n",
       "      <td>57</td>\n",
       "    </tr>\n",
       "  </tbody>\n",
       "</table>\n",
       "</div>"
      ],
      "text/plain": [
       "        Student  Math  Science  Literature\n",
       "0      Siddhant    56       79          48\n",
       "1       Pradeep    74       35          44\n",
       "2        Samrat    75       83          78\n",
       "3       Prakash    78       74          31\n",
       "4        Aakash    73       73          62\n",
       "5       Anushka    83       83          30\n",
       "6       Prasant    95       30          54\n",
       "7          Yash    63       78          72\n",
       "8   Purushuttam    85       59          40\n",
       "9        Bigyan    57       44          47\n",
       "10        Suraj    78       44          47\n",
       "11    Aakansha     52       77          81\n",
       "12      Aaastha    97       97          69\n",
       "13     Praishta    86       60          88\n",
       "14      Praiska    75       53          34\n",
       "15      Jenisha    56       62          57"
      ]
     },
     "execution_count": 47,
     "metadata": {},
     "output_type": "execute_result"
    }
   ],
   "source": [
    "dimension=get_dimension()\n",
    "number_of_students=int(input('Enter number of students to work with: '))\n",
    "\n",
    "data_df=get_data_frame(number_of_students,dimension)\n",
    "data_df=saving_dataframe_and_loading_latest_dataframe(data_df)\n",
    "\n",
    "print('Numpy array: ')\n",
    "data_np=(data_df.drop(columns=['Student'])).to_numpy()\n",
    "print(data_np)\n",
    "print('Data Frame: ')\n",
    "data_df\n",
    "\n"
   ]
  },
  {
   "cell_type": "markdown",
   "metadata": {},
   "source": [
    "<h3>3. K means clustering </h3>"
   ]
  },
  {
   "cell_type": "code",
   "execution_count": 48,
   "metadata": {},
   "outputs": [
    {
     "name": "stderr",
     "output_type": "stream",
     "text": [
      "C:\\Users\\FM-PC-LT-233\\anaconda3\\envs\\training_\\lib\\site-packages\\sklearn\\cluster\\_kmeans.py:870: FutureWarning: The default value of `n_init` will change from 10 to 'auto' in 1.4. Set the value of `n_init` explicitly to suppress the warning\n",
      "  warnings.warn(\n"
     ]
    }
   ],
   "source": [
    "clustering_model=KMeans(n_clusters=5).fit(data_np)\n",
    "cluster_op=clustering_model.predict(data_np)\n",
    "data_df['Clusters']=cluster_op\n",
    "data_df.to_csv('output.csv',index=False)"
   ]
  },
  {
   "cell_type": "markdown",
   "metadata": {},
   "source": [
    "<h3> 4. Plotting Cluster Graphs</h3>\n",
    "Now we will plots the clusters at with different colors "
   ]
  },
  {
   "cell_type": "code",
   "execution_count": 49,
   "metadata": {},
   "outputs": [],
   "source": [
    "def plot_all(topics,data_df,color_list,flag):\n",
    "    if flag==3:\n",
    "        fig = plt.figure()\n",
    "        ax = fig.add_subplot(projection='3d')\n",
    "    \n",
    "    for i in range(data_df.shape[0]):\n",
    "        c=data_df.at[i,'Clusters']\n",
    "        x_pt=data_df.at[i,topics[0]]\n",
    "        y_pt=data_df.at[i,topics[1]]\n",
    "        if flag==3:\n",
    "            z_pt=data_df.at[i,topics[2]]\n",
    "            ax.scatter(x_pt,y_pt,z_pt,color=color_list[c])\n",
    "        else: \n",
    "            plt.scatter(x=x_pt,y=y_pt,color=color_list[c])\n",
    "    "
   ]
  },
  {
   "cell_type": "code",
   "execution_count": 50,
   "metadata": {},
   "outputs": [
    {
     "data": {
      "image/png": "[encoded data removed]",
      "text/plain": [
       "<Figure size 640x480 with 1 Axes>"
      ]
     },
     "metadata": {},
     "output_type": "display_data"
    }
   ],
   "source": [
    "topics=get_topics(len(data_df.columns)-2)\n",
    "color_list=list(mcl.BASE_COLORS.values())\n",
    "\n",
    "\n",
    "if len(topics)==3:\n",
    "    plot_all(topics,data_df,color_list,3)\n",
    "else: \n",
    "    plot_all(topics,data_df,color_list,2)\n",
    "\n"
   ]
  },
  {
   "cell_type": "markdown",
   "metadata": {},
   "source": [
    "<h3> How to chose Proper 'K' </h3>\n",
    "\n",
    "So now that we have built the system and it works how do we chose the correct number of clusters ?\n",
    "\n",
    "<h3> Elbow Method </h3>\n",
    "\n",
    "In this method we calculate the within CLuster sum of squares with respect to number of clusters chosen and with that we plot the graph with each change and get a graph similar to that of a elbow which has a sharp turn and stable WCSS after that. The point from which their is very small change in the WCSS is taken as the final number of clusters \n",
    "\n",
    "<h4> Within cluster sum of squares (WCSS) </h4>\n",
    "This is computed as: \n",
    "<img src='https://149695847.v2.pressablecdn.com/wp-content/uploads/2019/08/4_wcss.png'>\n",
    "\n",
    "<h4> Obtained Graph elbow method </h4>\n",
    "<img src='https://editor.analyticsvidhya.com/uploads/43191elbow_img%20(1).png'>\n"
   ]
  },
  {
   "cell_type": "code",
   "execution_count": 55,
   "metadata": {},
   "outputs": [
    {
     "name": "stdout",
     "output_type": "stream",
     "text": [
      "3122.7999999999993\n"
     ]
    },
    {
     "name": "stderr",
     "output_type": "stream",
     "text": [
      "C:\\Users\\FM-PC-LT-233\\anaconda3\\envs\\training_\\lib\\site-packages\\sklearn\\cluster\\_kmeans.py:870: FutureWarning: The default value of `n_init` will change from 10 to 'auto' in 1.4. Set the value of `n_init` explicitly to suppress the warning\n",
      "  warnings.warn(\n",
      "C:\\Users\\FM-PC-LT-233\\anaconda3\\envs\\training_\\lib\\site-packages\\sklearn\\cluster\\_kmeans.py:870: FutureWarning: The default value of `n_init` will change from 10 to 'auto' in 1.4. Set the value of `n_init` explicitly to suppress the warning\n",
      "  warnings.warn(\n",
      "C:\\Users\\FM-PC-LT-233\\anaconda3\\envs\\training_\\lib\\site-packages\\sklearn\\cluster\\_kmeans.py:870: FutureWarning: The default value of `n_init` will change from 10 to 'auto' in 1.4. Set the value of `n_init` explicitly to suppress the warning\n",
      "  warnings.warn(\n",
      "C:\\Users\\FM-PC-LT-233\\anaconda3\\envs\\training_\\lib\\site-packages\\sklearn\\cluster\\_kmeans.py:870: FutureWarning: The default value of `n_init` will change from 10 to 'auto' in 1.4. Set the value of `n_init` explicitly to suppress the warning\n",
      "  warnings.warn(\n",
      "C:\\Users\\FM-PC-LT-233\\anaconda3\\envs\\training_\\lib\\site-packages\\sklearn\\cluster\\_kmeans.py:870: FutureWarning: The default value of `n_init` will change from 10 to 'auto' in 1.4. Set the value of `n_init` explicitly to suppress the warning\n",
      "  warnings.warn(\n",
      "C:\\Users\\FM-PC-LT-233\\anaconda3\\envs\\training_\\lib\\site-packages\\sklearn\\cluster\\_kmeans.py:870: FutureWarning: The default value of `n_init` will change from 10 to 'auto' in 1.4. Set the value of `n_init` explicitly to suppress the warning\n",
      "  warnings.warn(\n",
      "C:\\Users\\FM-PC-LT-233\\anaconda3\\envs\\training_\\lib\\site-packages\\sklearn\\cluster\\_kmeans.py:870: FutureWarning: The default value of `n_init` will change from 10 to 'auto' in 1.4. Set the value of `n_init` explicitly to suppress the warning\n",
      "  warnings.warn(\n",
      "C:\\Users\\FM-PC-LT-233\\anaconda3\\envs\\training_\\lib\\site-packages\\sklearn\\cluster\\_kmeans.py:870: FutureWarning: The default value of `n_init` will change from 10 to 'auto' in 1.4. Set the value of `n_init` explicitly to suppress the warning\n",
      "  warnings.warn(\n",
      "C:\\Users\\FM-PC-LT-233\\anaconda3\\envs\\training_\\lib\\site-packages\\sklearn\\cluster\\_kmeans.py:870: FutureWarning: The default value of `n_init` will change from 10 to 'auto' in 1.4. Set the value of `n_init` explicitly to suppress the warning\n",
      "  warnings.warn(\n",
      "C:\\Users\\FM-PC-LT-233\\anaconda3\\envs\\training_\\lib\\site-packages\\sklearn\\cluster\\_kmeans.py:870: FutureWarning: The default value of `n_init` will change from 10 to 'auto' in 1.4. Set the value of `n_init` explicitly to suppress the warning\n",
      "  warnings.warn(\n"
     ]
    },
    {
     "name": "stdout",
     "output_type": "stream",
     "text": [
      "[13432.625, 7717.5, 5447.583333333333, 4246.428571428571, 3190.7, 2462.0666666666666, 1712.8333333333335, 1229.4166666666667, 914.6666666666667, 640.8333333333333, 474.0]\n"
     ]
    },
    {
     "name": "stderr",
     "output_type": "stream",
     "text": [
      "C:\\Users\\FM-PC-LT-233\\anaconda3\\envs\\training_\\lib\\site-packages\\sklearn\\cluster\\_kmeans.py:870: FutureWarning: The default value of `n_init` will change from 10 to 'auto' in 1.4. Set the value of `n_init` explicitly to suppress the warning\n",
      "  warnings.warn(\n"
     ]
    },
    {
     "data": {
      "text/plain": [
       "Text(0, 0.5, 'WCSS')"
      ]
     },
     "execution_count": 55,
     "metadata": {},
     "output_type": "execute_result"
    },
    {
     "data": {
      "image/png": "[encoded data removed]",
      "text/plain": [
       "<Figure size 640x480 with 1 Axes>"
      ]
     },
     "metadata": {},
     "output_type": "display_data"
    }
   ],
   "source": [
    "print(clustering_model.inertia_)\n",
    "wcss=[(KMeans(i).fit(data_np)).inertia_ for i in range(1,12)]\n",
    "print(wcss)\n",
    "n_cluster=[i for i in range(1,12)]\n",
    "\n",
    "plt.plot(n_cluster,wcss)\n",
    "plt.xlabel('Number of clusters')\n",
    "plt.ylabel('WCSS')\n"
   ]
  },
  {
   "cell_type": "markdown",
   "metadata": {},
   "source": [
    "<b> From the graph obtained above we can conclude that 5 is the best number of clusters for this 2D dataset </b> \n",
    "\n",
    "<b> For 3d clustering the number of clusters is how much ? Can anyone answer ? </b>"
   ]
  },
  {
   "cell_type": "markdown",
   "metadata": {},
   "source": [
    "<h3> Recommednging similar students </h3>\n",
    "\n",
    "With the concept that we have learnt from the above cells now we will take input of a student's name and get the list of other students who are similar to the provided student this can be scaled up to include recommendation system for movies, animes and other various trops here is a link to my other repo which can be referenced for this purpose: <br><br>\n",
    "link: https://github.com/Siddhant128-bit/Recommendation-System-Using-K-means-Clustering-Approach"
   ]
  },
  {
   "cell_type": "code",
   "execution_count": 70,
   "metadata": {},
   "outputs": [],
   "source": [
    "def get_similar_students():    \n",
    "    try:\n",
    "        df=pd.read_csv('output.csv')\n",
    "    except: \n",
    "        path=input('Enter path for the csv with cluster assigned: ')\n",
    "        df=pd.read_csv(path)\n",
    "    name_student=input('\\nEnter name of the student: ')\n",
    "    try: \n",
    "        cluster_assigned=df['Clusters'].loc[df['Student'].str.contains(name_student)].values[0]\n",
    "        list_of_students=df['Student'].loc[df['Clusters']==cluster_assigned].to_list()\n",
    "        df_similar=df.loc[df['Clusters']==cluster_assigned]\n",
    "        del cluster_assigned\n",
    "    except:\n",
    "        list_of_students=('Student not found').split(' ')\n",
    "        df_similar=pd.DataFrame()\n",
    "        \n",
    "    \n",
    "    return list_of_students,df_similar\n"
   ]
  },
  {
   "cell_type": "code",
   "execution_count": 73,
   "metadata": {},
   "outputs": [
    {
     "name": "stdout",
     "output_type": "stream",
     "text": [
      "\n",
      "Enter name of the student: Pradeep\n",
      "\n",
      "\n",
      "Similar Studnents are: Pradeep,Prasant,Bigyan,Suraj\n",
      "\n",
      "Table of similar students: \n"
     ]
    },
    {
     "data": {
      "text/html": [
       "<div>\n",
       "<style scoped>\n",
       "    .dataframe tbody tr th:only-of-type {\n",
       "        vertical-align: middle;\n",
       "    }\n",
       "\n",
       "    .dataframe tbody tr th {\n",
       "        vertical-align: top;\n",
       "    }\n",
       "\n",
       "    .dataframe thead th {\n",
       "        text-align: right;\n",
       "    }\n",
       "</style>\n",
       "<table border=\"1\" class=\"dataframe\">\n",
       "  <thead>\n",
       "    <tr style=\"text-align: right;\">\n",
       "      <th></th>\n",
       "      <th>Student</th>\n",
       "      <th>Math</th>\n",
       "      <th>Science</th>\n",
       "      <th>Literature</th>\n",
       "      <th>Clusters</th>\n",
       "    </tr>\n",
       "  </thead>\n",
       "  <tbody>\n",
       "    <tr>\n",
       "      <th>1</th>\n",
       "      <td>Pradeep</td>\n",
       "      <td>74</td>\n",
       "      <td>35</td>\n",
       "      <td>44</td>\n",
       "      <td>3</td>\n",
       "    </tr>\n",
       "    <tr>\n",
       "      <th>6</th>\n",
       "      <td>Prasant</td>\n",
       "      <td>95</td>\n",
       "      <td>30</td>\n",
       "      <td>54</td>\n",
       "      <td>3</td>\n",
       "    </tr>\n",
       "    <tr>\n",
       "      <th>9</th>\n",
       "      <td>Bigyan</td>\n",
       "      <td>57</td>\n",
       "      <td>44</td>\n",
       "      <td>47</td>\n",
       "      <td>3</td>\n",
       "    </tr>\n",
       "    <tr>\n",
       "      <th>10</th>\n",
       "      <td>Suraj</td>\n",
       "      <td>78</td>\n",
       "      <td>44</td>\n",
       "      <td>47</td>\n",
       "      <td>3</td>\n",
       "    </tr>\n",
       "  </tbody>\n",
       "</table>\n",
       "</div>"
      ],
      "text/plain": [
       "    Student  Math  Science  Literature  Clusters\n",
       "1   Pradeep    74       35          44         3\n",
       "6   Prasant    95       30          54         3\n",
       "9    Bigyan    57       44          47         3\n",
       "10    Suraj    78       44          47         3"
      ]
     },
     "execution_count": 73,
     "metadata": {},
     "output_type": "execute_result"
    }
   ],
   "source": [
    "similar_students_list,similar_students_table=get_similar_students()\n",
    "print('\\n\\nSimilar Studnents are: '+','.join(similar_students_list))\n",
    "print('\\nTable of similar students: ')\n",
    "similar_students_table"
   ]
  },
  {
   "cell_type": "code",
   "execution_count": null,
   "metadata": {},
   "outputs": [],
   "source": []
  }
 ],
 "metadata": {
  "kernelspec": {
   "display_name": "Python 3 (ipykernel)",
   "language": "python",
   "name": "python3"
  },
  "language_info": {
   "codemirror_mode": {
    "name": "ipython",
    "version": 3
   },
   "file_extension": ".py",
   "mimetype": "text/x-python",
   "name": "python",
   "nbconvert_exporter": "python",
   "pygments_lexer": "ipython3",
   "version": "3.10.8"
  },
  "vscode": {
   "interpreter": {
    "hash": "d3d2f78e555183a881cae8393ce673a4ac506717ad392b2f660077200b1aa750"
   }
  }
 },
 "nbformat": 4,
 "nbformat_minor": 2
}
