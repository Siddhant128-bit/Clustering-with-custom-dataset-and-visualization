{
 "cells": [
  {
   "cell_type": "markdown",
   "metadata": {},
   "source": [
    "<h2> K.Means Algorithm </h2>\n",
    "\n",
    "Clustering is a different branch of Machine Learning in general that falls under unsupervised learning where labels are not present in the dataset and a pattern of similarly identifiable datapoints are considered as new clusters/classes purely on the basis of datapoints similarity with each other\n",
    "\n"
   ]
  },
  {
   "cell_type": "markdown",
   "metadata": {},
   "source": [
    "<h3> 0. Inslalling Dependencies </h3>"
   ]
  },
  {
   "cell_type": "code",
   "execution_count": 1,
   "metadata": {},
   "outputs": [
    {
     "name": "stdout",
     "output_type": "stream",
     "text": [
      "Requirement already satisfied: pandas in c:\\users\\fm-pc-lt-233\\anaconda3\\envs\\training_\\lib\\site-packages (1.5.2)\n",
      "Requirement already satisfied: python-dateutil>=2.8.1 in c:\\users\\fm-pc-lt-233\\anaconda3\\envs\\training_\\lib\\site-packages (from pandas) (2.8.2)\n",
      "Requirement already satisfied: numpy>=1.21.0 in c:\\users\\fm-pc-lt-233\\anaconda3\\envs\\training_\\lib\\site-packages (from pandas) (1.23.5)\n",
      "Requirement already satisfied: pytz>=2020.1 in c:\\users\\fm-pc-lt-233\\anaconda3\\envs\\training_\\lib\\site-packages (from pandas) (2022.6)\n",
      "Requirement already satisfied: six>=1.5 in c:\\users\\fm-pc-lt-233\\anaconda3\\envs\\training_\\lib\\site-packages (from python-dateutil>=2.8.1->pandas) (1.16.0)\n",
      "Requirement already satisfied: numpy in c:\\users\\fm-pc-lt-233\\anaconda3\\envs\\training_\\lib\\site-packages (1.23.5)\n",
      "Requirement already satisfied: matplotlib in c:\\users\\fm-pc-lt-233\\anaconda3\\envs\\training_\\lib\\site-packages (3.6.2)\n",
      "Requirement already satisfied: packaging>=20.0 in c:\\users\\fm-pc-lt-233\\anaconda3\\envs\\training_\\lib\\site-packages (from matplotlib) (22.0)\n",
      "Requirement already satisfied: contourpy>=1.0.1 in c:\\users\\fm-pc-lt-233\\anaconda3\\envs\\training_\\lib\\site-packages (from matplotlib) (1.0.6)\n",
      "Requirement already satisfied: pillow>=6.2.0 in c:\\users\\fm-pc-lt-233\\anaconda3\\envs\\training_\\lib\\site-packages (from matplotlib) (9.3.0)\n",
      "Requirement already satisfied: numpy>=1.19 in c:\\users\\fm-pc-lt-233\\anaconda3\\envs\\training_\\lib\\site-packages (from matplotlib) (1.23.5)\n",
      "Requirement already satisfied: fonttools>=4.22.0 in c:\\users\\fm-pc-lt-233\\anaconda3\\envs\\training_\\lib\\site-packages (from matplotlib) (4.38.0)\n",
      "Requirement already satisfied: cycler>=0.10 in c:\\users\\fm-pc-lt-233\\anaconda3\\envs\\training_\\lib\\site-packages (from matplotlib) (0.11.0)\n",
      "Requirement already satisfied: python-dateutil>=2.7 in c:\\users\\fm-pc-lt-233\\anaconda3\\envs\\training_\\lib\\site-packages (from matplotlib) (2.8.2)\n",
      "Requirement already satisfied: kiwisolver>=1.0.1 in c:\\users\\fm-pc-lt-233\\anaconda3\\envs\\training_\\lib\\site-packages (from matplotlib) (1.4.4)\n",
      "Requirement already satisfied: pyparsing>=2.2.1 in c:\\users\\fm-pc-lt-233\\anaconda3\\envs\\training_\\lib\\site-packages (from matplotlib) (3.0.9)\n",
      "Requirement already satisfied: six>=1.5 in c:\\users\\fm-pc-lt-233\\anaconda3\\envs\\training_\\lib\\site-packages (from python-dateutil>=2.7->matplotlib) (1.16.0)\n",
      "Requirement already satisfied: scikit-learn in c:\\users\\fm-pc-lt-233\\anaconda3\\envs\\training_\\lib\\site-packages (1.2.0)\n",
      "Requirement already satisfied: joblib>=1.1.1 in c:\\users\\fm-pc-lt-233\\anaconda3\\envs\\training_\\lib\\site-packages (from scikit-learn) (1.2.0)\n",
      "Requirement already satisfied: scipy>=1.3.2 in c:\\users\\fm-pc-lt-233\\anaconda3\\envs\\training_\\lib\\site-packages (from scikit-learn) (1.9.3)\n",
      "Requirement already satisfied: numpy>=1.17.3 in c:\\users\\fm-pc-lt-233\\anaconda3\\envs\\training_\\lib\\site-packages (from scikit-learn) (1.23.5)\n",
      "Requirement already satisfied: threadpoolctl>=2.0.0 in c:\\users\\fm-pc-lt-233\\anaconda3\\envs\\training_\\lib\\site-packages (from scikit-learn) (3.1.0)\n"
     ]
    }
   ],
   "source": [
    "!pip install pandas \n",
    "!pip install numpy \n",
    "!pip install matplotlib\n",
    "!pip install -U scikit-learn"
   ]
  },
  {
   "cell_type": "markdown",
   "metadata": {},
   "source": [
    "<h3>1. Importing Dependencies </h3>"
   ]
  },
  {
   "cell_type": "code",
   "execution_count": 2,
   "metadata": {},
   "outputs": [],
   "source": [
    "import pandas as pd \n",
    "from sklearn.cluster import KMeans\n",
    "import numpy as np \n",
    "import os\n",
    "import matplotlib.colors as mcl\n",
    "import random\n",
    "import matplotlib.pyplot as plt"
   ]
  },
  {
   "cell_type": "markdown",
   "metadata": {},
   "source": [
    "<h3>2. Creating Dataset </h3>\n",
    "\n",
    "Today lets work on an exercise to have N number of students whose name will be provided by user and we will create numpy array  and dataframe over it(DataFrame for better visualization and Numpy for clustering purpose) with random marks assigned for 2 subjects (for 2D clustering visualization ) and 3 subjects (for 3D clustering and visualizations)"
   ]
  },
  {
   "cell_type": "code",
   "execution_count": 3,
   "metadata": {},
   "outputs": [],
   "source": [
    "def get_dimension():\n",
    "    while True:\n",
    "        dimension=int(input('Enter 2 for 2 Dimension and 3 for 3 Dimensions: '))\n",
    "        if dimension==2 or dimension==3: \n",
    "            break \n",
    "        else: \n",
    "            print('Creator\\'s note Please give 2 or 3 as input as it works on these 2 only (for now) \\n')\n",
    "\n",
    "    return dimension\n",
    "\n",
    "def get_topics(dimension):\n",
    "    topics=[]\n",
    "    if dimension==2:\n",
    "        topics=['Math','Science']\n",
    "    else: \n",
    "        topics=['Math','Science','Literature']\n",
    "    \n",
    "    return topics\n",
    "\n",
    "def get_students(number_of_students):\n",
    "    students=[]\n",
    "    for i in range(0,number_of_students):\n",
    "        students.append(input(f'Enter name of the {i+1} student:  '))\n",
    "    return students\n",
    "\n",
    "def get_column_names(topics):\n",
    "    columns=['Student']\n",
    "    for i in topics: \n",
    "        columns.append(i)\n",
    "    return columns\n",
    "\n",
    "def get_initial_data_frame(students,columns):\n",
    "    df=pd.DataFrame(columns=columns)\n",
    "    df['Student']=students\n",
    "    for i in columns[1:]: \n",
    "        df[i]=[random.randrange(30,100) for number in range(len(students))]\n",
    "    return df\n",
    "\n",
    "\n",
    "def get_data_frame(number_of_students,dimension):\n",
    "    topics=get_topics(dimension)\n",
    "    students=get_students(number_of_students)\n",
    "    columns=get_column_names(topics)\n",
    "    data_df=get_initial_data_frame(students,columns)\n",
    "    return data_df\n",
    "    \n",
    "\n",
    "def saving_dataframe_and_loading_latest_dataframe(data_df):\n",
    "        \n",
    "    if len(data_df.columns)==3:\n",
    "        print('Saving to \\'Dataset 2D\\'')\n",
    "        if 'Dataset_2D.csv' in os.listdir(os.getcwd()):\n",
    "            data_df.to_csv('Dataset_2D.csv',mode='a',index=False,header=False)\n",
    "        else: \n",
    "            data_df.to_csv('Dataset_2D.csv',mode='a',index=False,header=True)\n",
    "\n",
    "        data_df=pd.read_csv('Dataset_2D.csv')\n",
    "\n",
    "    else: \n",
    "        print('Saving to \\'Dataset 2D\\'')\n",
    "        if \"Dataset_3D.csv\" in os.listdir(os.getcwd()):\n",
    "            data_df.to_csv('Dataset_3D.csv',mode='a',index=False,header=False)\n",
    "        else:\n",
    "            data_df.to_csv('Dataset_3D.csv',mode='a',index=False,header=True)\n",
    "\n",
    "        data_df=pd.read_csv('Dataset_3D.csv')\n",
    "    \n",
    "    return data_df\n",
    "    \n",
    "    "
   ]
  },
  {
   "cell_type": "markdown",
   "metadata": {},
   "source": [
    "<h4> Calling all functions </h4>\n",
    "<ol>\n",
    "    <li> We input the dimensions of the data (2D or 3D) </li>\n",
    "    <li> We get number of students </li>\n",
    "    <li> We get dataframes </li>\n",
    "    <li> We dump dataframe and load the entire data frame </li>\n",
    "    <li> We get numpy array </li>\n",
    "</ol>"
   ]
  },
  {
   "cell_type": "code",
   "execution_count": 4,
   "metadata": {},
   "outputs": [
    {
     "name": "stdout",
     "output_type": "stream",
     "text": [
      "Enter 2 for 2 Dimension and 3 for 3 Dimensions: 2\n",
      "Enter number of students to work with: 0\n",
      "Saving to 'Dataset 2D'\n",
      "Numpy array: \n",
      "[[81 82]\n",
      " [98 84]\n",
      " [46 98]\n",
      " [71 76]\n",
      " [54 81]\n",
      " [75 97]\n",
      " [62 68]\n",
      " [56 36]\n",
      " [61 46]\n",
      " [98 97]\n",
      " [59 92]\n",
      " [41 56]\n",
      " [80 48]\n",
      " [70 75]\n",
      " [80 59]\n",
      " [55 97]\n",
      " [57 69]\n",
      " [32 47]\n",
      " [59 42]\n",
      " [66 96]\n",
      " [32 68]\n",
      " [64 50]\n",
      " [35 34]\n",
      " [39 80]\n",
      " [75 99]\n",
      " [92 75]\n",
      " [49 92]\n",
      " [71 35]\n",
      " [75 35]\n",
      " [68 39]\n",
      " [31 51]]\n",
      "Data Frame: \n"
     ]
    },
    {
     "data": {
      "text/html": [
       "<div>\n",
       "<style scoped>\n",
       "    .dataframe tbody tr th:only-of-type {\n",
       "        vertical-align: middle;\n",
       "    }\n",
       "\n",
       "    .dataframe tbody tr th {\n",
       "        vertical-align: top;\n",
       "    }\n",
       "\n",
       "    .dataframe thead th {\n",
       "        text-align: right;\n",
       "    }\n",
       "</style>\n",
       "<table border=\"1\" class=\"dataframe\">\n",
       "  <thead>\n",
       "    <tr style=\"text-align: right;\">\n",
       "      <th></th>\n",
       "      <th>Student</th>\n",
       "      <th>Math</th>\n",
       "      <th>Science</th>\n",
       "    </tr>\n",
       "  </thead>\n",
       "  <tbody>\n",
       "    <tr>\n",
       "      <th>0</th>\n",
       "      <td>Siddhant</td>\n",
       "      <td>81</td>\n",
       "      <td>82</td>\n",
       "    </tr>\n",
       "    <tr>\n",
       "      <th>1</th>\n",
       "      <td>Prakash</td>\n",
       "      <td>98</td>\n",
       "      <td>84</td>\n",
       "    </tr>\n",
       "    <tr>\n",
       "      <th>2</th>\n",
       "      <td>Prashant</td>\n",
       "      <td>46</td>\n",
       "      <td>98</td>\n",
       "    </tr>\n",
       "    <tr>\n",
       "      <th>3</th>\n",
       "      <td>Pradeep</td>\n",
       "      <td>71</td>\n",
       "      <td>76</td>\n",
       "    </tr>\n",
       "    <tr>\n",
       "      <th>4</th>\n",
       "      <td>Prashidhi</td>\n",
       "      <td>54</td>\n",
       "      <td>81</td>\n",
       "    </tr>\n",
       "    <tr>\n",
       "      <th>5</th>\n",
       "      <td>Prakriti</td>\n",
       "      <td>75</td>\n",
       "      <td>97</td>\n",
       "    </tr>\n",
       "    <tr>\n",
       "      <th>6</th>\n",
       "      <td>Sudeep</td>\n",
       "      <td>62</td>\n",
       "      <td>68</td>\n",
       "    </tr>\n",
       "    <tr>\n",
       "      <th>7</th>\n",
       "      <td>Sandeep</td>\n",
       "      <td>56</td>\n",
       "      <td>36</td>\n",
       "    </tr>\n",
       "    <tr>\n",
       "      <th>8</th>\n",
       "      <td>Sarkar</td>\n",
       "      <td>61</td>\n",
       "      <td>46</td>\n",
       "    </tr>\n",
       "    <tr>\n",
       "      <th>9</th>\n",
       "      <td>Pukar</td>\n",
       "      <td>98</td>\n",
       "      <td>97</td>\n",
       "    </tr>\n",
       "    <tr>\n",
       "      <th>10</th>\n",
       "      <td>Saakar</td>\n",
       "      <td>59</td>\n",
       "      <td>92</td>\n",
       "    </tr>\n",
       "    <tr>\n",
       "      <th>11</th>\n",
       "      <td>Sangeeta</td>\n",
       "      <td>41</td>\n",
       "      <td>56</td>\n",
       "    </tr>\n",
       "    <tr>\n",
       "      <th>12</th>\n",
       "      <td>Rangeela</td>\n",
       "      <td>80</td>\n",
       "      <td>48</td>\n",
       "    </tr>\n",
       "    <tr>\n",
       "      <th>13</th>\n",
       "      <td>Roshan</td>\n",
       "      <td>70</td>\n",
       "      <td>75</td>\n",
       "    </tr>\n",
       "    <tr>\n",
       "      <th>14</th>\n",
       "      <td>Rohan</td>\n",
       "      <td>80</td>\n",
       "      <td>59</td>\n",
       "    </tr>\n",
       "    <tr>\n",
       "      <th>15</th>\n",
       "      <td>Rojan</td>\n",
       "      <td>55</td>\n",
       "      <td>97</td>\n",
       "    </tr>\n",
       "    <tr>\n",
       "      <th>16</th>\n",
       "      <td>Tanka</td>\n",
       "      <td>57</td>\n",
       "      <td>69</td>\n",
       "    </tr>\n",
       "    <tr>\n",
       "      <th>17</th>\n",
       "      <td>Sujan</td>\n",
       "      <td>32</td>\n",
       "      <td>47</td>\n",
       "    </tr>\n",
       "    <tr>\n",
       "      <th>18</th>\n",
       "      <td>Susan</td>\n",
       "      <td>59</td>\n",
       "      <td>42</td>\n",
       "    </tr>\n",
       "    <tr>\n",
       "      <th>19</th>\n",
       "      <td>Sushant</td>\n",
       "      <td>66</td>\n",
       "      <td>96</td>\n",
       "    </tr>\n",
       "    <tr>\n",
       "      <th>20</th>\n",
       "      <td>Sujan</td>\n",
       "      <td>32</td>\n",
       "      <td>68</td>\n",
       "    </tr>\n",
       "    <tr>\n",
       "      <th>21</th>\n",
       "      <td>Suhan</td>\n",
       "      <td>64</td>\n",
       "      <td>50</td>\n",
       "    </tr>\n",
       "    <tr>\n",
       "      <th>22</th>\n",
       "      <td>Sahaj</td>\n",
       "      <td>35</td>\n",
       "      <td>34</td>\n",
       "    </tr>\n",
       "    <tr>\n",
       "      <th>23</th>\n",
       "      <td>Sahash</td>\n",
       "      <td>39</td>\n",
       "      <td>80</td>\n",
       "    </tr>\n",
       "    <tr>\n",
       "      <th>24</th>\n",
       "      <td>Sandeep</td>\n",
       "      <td>75</td>\n",
       "      <td>99</td>\n",
       "    </tr>\n",
       "    <tr>\n",
       "      <th>25</th>\n",
       "      <td>Sanjeep</td>\n",
       "      <td>92</td>\n",
       "      <td>75</td>\n",
       "    </tr>\n",
       "    <tr>\n",
       "      <th>26</th>\n",
       "      <td>Saurav</td>\n",
       "      <td>49</td>\n",
       "      <td>92</td>\n",
       "    </tr>\n",
       "    <tr>\n",
       "      <th>27</th>\n",
       "      <td>Sarav</td>\n",
       "      <td>71</td>\n",
       "      <td>35</td>\n",
       "    </tr>\n",
       "    <tr>\n",
       "      <th>28</th>\n",
       "      <td>Puskar</td>\n",
       "      <td>75</td>\n",
       "      <td>35</td>\n",
       "    </tr>\n",
       "    <tr>\n",
       "      <th>29</th>\n",
       "      <td>Pukar</td>\n",
       "      <td>68</td>\n",
       "      <td>39</td>\n",
       "    </tr>\n",
       "    <tr>\n",
       "      <th>30</th>\n",
       "      <td>Prakar</td>\n",
       "      <td>31</td>\n",
       "      <td>51</td>\n",
       "    </tr>\n",
       "  </tbody>\n",
       "</table>\n",
       "</div>"
      ],
      "text/plain": [
       "      Student  Math  Science\n",
       "0    Siddhant    81       82\n",
       "1     Prakash    98       84\n",
       "2    Prashant    46       98\n",
       "3     Pradeep    71       76\n",
       "4   Prashidhi    54       81\n",
       "5    Prakriti    75       97\n",
       "6      Sudeep    62       68\n",
       "7     Sandeep    56       36\n",
       "8      Sarkar    61       46\n",
       "9       Pukar    98       97\n",
       "10     Saakar    59       92\n",
       "11   Sangeeta    41       56\n",
       "12   Rangeela    80       48\n",
       "13     Roshan    70       75\n",
       "14      Rohan    80       59\n",
       "15      Rojan    55       97\n",
       "16      Tanka    57       69\n",
       "17      Sujan    32       47\n",
       "18      Susan    59       42\n",
       "19    Sushant    66       96\n",
       "20      Sujan    32       68\n",
       "21      Suhan    64       50\n",
       "22      Sahaj    35       34\n",
       "23     Sahash    39       80\n",
       "24    Sandeep    75       99\n",
       "25    Sanjeep    92       75\n",
       "26     Saurav    49       92\n",
       "27      Sarav    71       35\n",
       "28     Puskar    75       35\n",
       "29      Pukar    68       39\n",
       "30     Prakar    31       51"
      ]
     },
     "execution_count": 4,
     "metadata": {},
     "output_type": "execute_result"
    }
   ],
   "source": [
    "dimension=get_dimension()\n",
    "number_of_students=int(input('Enter number of students to work with: '))\n",
    "\n",
    "data_df=get_data_frame(number_of_students,dimension)\n",
    "data_df=saving_dataframe_and_loading_latest_dataframe(data_df)\n",
    "\n",
    "print('Numpy array: ')\n",
    "data_np=(data_df.drop(columns=['Student'])).to_numpy()\n",
    "print(data_np)\n",
    "print('Data Frame: ')\n",
    "data_df\n",
    "\n"
   ]
  },
  {
   "cell_type": "markdown",
   "metadata": {},
   "source": [
    "<h3>3. K means clustering </h3>"
   ]
  },
  {
   "cell_type": "code",
   "execution_count": 5,
   "metadata": {},
   "outputs": [
    {
     "name": "stderr",
     "output_type": "stream",
     "text": [
      "C:\\Users\\FM-PC-LT-233\\anaconda3\\envs\\training_\\lib\\site-packages\\sklearn\\cluster\\_kmeans.py:870: FutureWarning: The default value of `n_init` will change from 10 to 'auto' in 1.4. Set the value of `n_init` explicitly to suppress the warning\n",
      "  warnings.warn(\n"
     ]
    }
   ],
   "source": [
    "clustering_model=KMeans(n_clusters=5).fit(data_np)\n",
    "cluster_op=clustering_model.predict(data_np)\n",
    "data_df['Clusters']=cluster_op\n",
    "data_df.to_csv('output.csv',index=False)"
   ]
  },
  {
   "cell_type": "markdown",
   "metadata": {},
   "source": [
    "<h3> 4. Plotting Cluster Graphs</h3>\n",
    "Now we will plots the clusters at with different colors "
   ]
  },
  {
   "cell_type": "code",
   "execution_count": 6,
   "metadata": {},
   "outputs": [],
   "source": [
    "def plot_all(topics,data_df,color_list,flag):\n",
    "    if flag==3:\n",
    "        fig = plt.figure()\n",
    "        ax = fig.add_subplot(projection='3d')\n",
    "    \n",
    "    for i in range(data_df.shape[0]):\n",
    "        c=data_df.at[i,'Clusters']\n",
    "        x_pt=data_df.at[i,topics[0]]\n",
    "        y_pt=data_df.at[i,topics[1]]\n",
    "        if flag==3:\n",
    "            z_pt=data_df.at[i,topics[2]]\n",
    "            ax.scatter(x_pt,y_pt,z_pt,color=color_list[c])\n",
    "        else: \n",
    "            plt.scatter(x=x_pt,y=y_pt,color=color_list[c])\n",
    "    "
   ]
  },
  {
   "cell_type": "code",
   "execution_count": 7,
   "metadata": {},
   "outputs": [
    {
     "data": {
      "image/png": "[encoded data removed]",
      "text/plain": [
       "<Figure size 640x480 with 1 Axes>"
      ]
     },
     "metadata": {},
     "output_type": "display_data"
    }
   ],
   "source": [
    "topics=get_topics(len(data_df.columns)-2)\n",
    "color_list=list(mcl.BASE_COLORS.values())\n",
    "\n",
    "\n",
    "if len(topics)==3:\n",
    "    plot_all(topics,data_df,color_list,3)\n",
    "else: \n",
    "    plot_all(topics,data_df,color_list,2)\n",
    "\n"
   ]
  },
  {
   "cell_type": "markdown",
   "metadata": {},
   "source": [
    "<h3> How to chose Proper 'K' </h3>\n",
    "\n",
    "So now that we have built the system and it works how do we chose the correct number of clusters ?\n",
    "\n",
    "<h3> Elbow Method </h3>\n",
    "\n",
    "In this method we calculate the within CLuster sum of squares with respect to number of clusters chosen and with that we plot the graph with each change and get a graph similar to that of a elbow which has a sharp turn and stable WCSS after that. The point from which their is very small change in the WCSS is taken as the final number of clusters \n",
    "\n",
    "<h4> Within cluster sum of squares (WCSS) </h4>\n",
    "This is computed as: \n",
    "<img src='https://149695847.v2.pressablecdn.com/wp-content/uploads/2019/08/4_wcss.png'>\n",
    "\n",
    "<h4> Obtained Graph elbow method </h4>\n",
    "<img src='https://editor.analyticsvidhya.com/uploads/43191elbow_img%20(1).png'>\n"
   ]
  },
  {
   "cell_type": "code",
   "execution_count": 22,
   "metadata": {},
   "outputs": [
    {
     "name": "stdout",
     "output_type": "stream",
     "text": [
      "3810.246428571428\n"
     ]
    },
    {
     "name": "stderr",
     "output_type": "stream",
     "text": [
      "C:\\Users\\FM-PC-LT-233\\anaconda3\\envs\\training_\\lib\\site-packages\\sklearn\\cluster\\_kmeans.py:870: FutureWarning: The default value of `n_init` will change from 10 to 'auto' in 1.4. Set the value of `n_init` explicitly to suppress the warning\n",
      "  warnings.warn(\n",
      "C:\\Users\\FM-PC-LT-233\\anaconda3\\envs\\training_\\lib\\site-packages\\sklearn\\cluster\\_kmeans.py:870: FutureWarning: The default value of `n_init` will change from 10 to 'auto' in 1.4. Set the value of `n_init` explicitly to suppress the warning\n",
      "  warnings.warn(\n",
      "C:\\Users\\FM-PC-LT-233\\anaconda3\\envs\\training_\\lib\\site-packages\\sklearn\\cluster\\_kmeans.py:870: FutureWarning: The default value of `n_init` will change from 10 to 'auto' in 1.4. Set the value of `n_init` explicitly to suppress the warning\n",
      "  warnings.warn(\n",
      "C:\\Users\\FM-PC-LT-233\\anaconda3\\envs\\training_\\lib\\site-packages\\sklearn\\cluster\\_kmeans.py:870: FutureWarning: The default value of `n_init` will change from 10 to 'auto' in 1.4. Set the value of `n_init` explicitly to suppress the warning\n",
      "  warnings.warn(\n",
      "C:\\Users\\FM-PC-LT-233\\anaconda3\\envs\\training_\\lib\\site-packages\\sklearn\\cluster\\_kmeans.py:870: FutureWarning: The default value of `n_init` will change from 10 to 'auto' in 1.4. Set the value of `n_init` explicitly to suppress the warning\n",
      "  warnings.warn(\n",
      "C:\\Users\\FM-PC-LT-233\\anaconda3\\envs\\training_\\lib\\site-packages\\sklearn\\cluster\\_kmeans.py:870: FutureWarning: The default value of `n_init` will change from 10 to 'auto' in 1.4. Set the value of `n_init` explicitly to suppress the warning\n",
      "  warnings.warn(\n"
     ]
    },
    {
     "name": "stdout",
     "output_type": "stream",
     "text": [
      "[25650.258064516125, 12599.936974789915, 8494.305555555555, 5225.564646464647, 3810.246428571428, 2985.925, 2480.421428571429]\n"
     ]
    },
    {
     "name": "stderr",
     "output_type": "stream",
     "text": [
      "C:\\Users\\FM-PC-LT-233\\anaconda3\\envs\\training_\\lib\\site-packages\\sklearn\\cluster\\_kmeans.py:870: FutureWarning: The default value of `n_init` will change from 10 to 'auto' in 1.4. Set the value of `n_init` explicitly to suppress the warning\n",
      "  warnings.warn(\n"
     ]
    },
    {
     "data": {
      "text/plain": [
       "Text(0, 0.5, 'WCSS')"
      ]
     },
     "execution_count": 22,
     "metadata": {},
     "output_type": "execute_result"
    },
    {
     "data": {
      "image/png": "[encoded data removed]",
      "text/plain": [
       "<Figure size 640x480 with 1 Axes>"
      ]
     },
     "metadata": {},
     "output_type": "display_data"
    }
   ],
   "source": [
    "print(clustering_model.inertia_)\n",
    "wcss=[(KMeans(i).fit(data_np)).inertia_ for i in range(1,8)]\n",
    "print(wcss)\n",
    "n_cluster=[i for i in range(1,8)]\n",
    "\n",
    "plt.plot(n_cluster,wcss)\n",
    "plt.xlabel('Number of clusters')\n",
    "plt.ylabel('WCSS')\n"
   ]
  },
  {
   "cell_type": "markdown",
   "metadata": {},
   "source": [
    "<b> From the graph obtained above we can conclude that 5 is the best number of clusters for this 2D dataset </b> "
   ]
  }
 ],
 "metadata": {
  "kernelspec": {
   "display_name": "Python 3 (ipykernel)",
   "language": "python",
   "name": "python3"
  },
  "language_info": {
   "codemirror_mode": {
    "name": "ipython",
    "version": 3
   },
   "file_extension": ".py",
   "mimetype": "text/x-python",
   "name": "python",
   "nbconvert_exporter": "python",
   "pygments_lexer": "ipython3",
   "version": "3.10.8"
  },
  "vscode": {
   "interpreter": {
    "hash": "d3d2f78e555183a881cae8393ce673a4ac506717ad392b2f660077200b1aa750"
   }
  }
 },
 "nbformat": 4,
 "nbformat_minor": 2
}
